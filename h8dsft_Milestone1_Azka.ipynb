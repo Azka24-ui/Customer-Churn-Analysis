{
 "cells": [
  {
   "cell_type": "markdown",
   "metadata": {},
   "source": [
    "## MILESTONE\n",
    "### Nama : Azka Irsyad CHoir\n",
    "### Batch : HCK-024"
   ]
  },
  {
   "cell_type": "markdown",
   "metadata": {},
   "source": [
    "- URL Dataset : https://www.kaggle.com/datasets/sakshigoyal7/credit-card-customers\n",
    "- URL Tableu : https://public.tableau.com/app/profile/azka.irsyad/viz/TABLEU_AZKA_BANK/Dashboard1?publish=yes\n"
   ]
  },
  {
   "cell_type": "markdown",
   "metadata": {},
   "source": [
    "# 2. Identifikasi Masalah"
   ]
  },
  {
   "cell_type": "markdown",
   "metadata": {},
   "source": [
    "## Latar Belakang : \n",
    "bagaimana kita bisa menghadapi masalah churn pelanggan pada layanan kartu kredit, di mana sekitar 17% pelanggan berhenti menggunakan kartu kredit mereka. Churn ini dapat menyebabkan penurunan pendapatan bank dan meningkatkan biaya untuk memperoleh pelanggan baru.\n"
   ]
  },
  {
   "cell_type": "markdown",
   "metadata": {},
   "source": [
    "#### SMART\n",
    "- spesifik : Bank ingin menurunkan tingkat churn pelanggan yang saat ini mencapai 16%, dengan memprediksi pelanggan yang berisiko churn dan mengambil langkah-langkah untuk mempertahankan mereka\n",
    "- Measureable : \n",
    "bank mengharapkan penurunan 5-10% dalam churn pelanggan setelah tindakan preventif diimplementasikan berdasarkan hasil model.\n",
    "- Achievable :  \n",
    "memberikan kenaikan limit otomatis kepada nasabah yang aktif bertranksaksi lebih dari 50 tranksaksi dalam waktu 12 bulan terakhir\n",
    "- Relevant : \n",
    "Jika angka churn rendah , maka bank akan menghasilakan profit yang lebih besar\n",
    "- Time Bound : \n",
    "tercapai dalam waktu 3 bulan untuk menghasilkan model prediksi churn yang dapat diterapkan segera untuk membantu bank mengambil langkah-langkah preventif guna menurunkan tingkat churn pelanggan.\n",
    "\n",
    "- Problem Statement : \n",
    "untuk menurunkan tingkat churn sebesar 5-10% melalui implementasi strategi berbasis hasil prediksi model. Salah satu strategi yang dapat diterapkan adalah memberikan kenaikan limit otomatis kepada pelanggan yang aktif bertransaksi lebih dari 50 transaksi dalam 12 bulan terakhir.\n"
   ]
  },
  {
   "cell_type": "markdown",
   "metadata": {},
   "source": [
    "## Penjabaran masalah dengan metode 5W+1H:\n",
    "\n",
    "- Apa yang menyebabkan tingkat churn pelanggan mencapai 16%?\n",
    "- Mengapa menurunkan churn pelanggan menjadi penting bagi bank?\n",
    "- Siapa saja pelanggan yang paling berisiko untuk churn?\n",
    "- Apakah jumlah income category mempengaruhi churn ?\n",
    "- Kapan pelanggan cenderung berhenti menggunakan kartu kredit?\n",
    "- Bagaimana cara bank mengidentifikasi pelanggan yang berisiko tinggi churn?\n"
   ]
  },
  {
   "cell_type": "markdown",
   "metadata": {},
   "source": [
    "# 3. Data Loading"
   ]
  },
  {
   "cell_type": "markdown",
   "metadata": {},
   "source": [
    "## Data Explorasi\n",
    "\n",
    "- CLIENTNUM: ID unik pelanggan.\n",
    "- Attrition_Flag: Status pelanggan, apakah masih aktif (Existing Customer) atau sudah churn (Attrited Customer).\n",
    "- Customer_Age: Usia pelanggan.\n",
    "- Gender: Jenis kelamin pelanggan (M/F).\n",
    "- Dependent_count: Jumlah tanggungan keluarga.\n",
    "- Education_Level: Tingkat pendidikan pelanggan (contoh: High School, Graduate).\n",
    "- Marital_Status: Status pernikahan pelanggan (contoh: Married, Single, Unknown).\n",
    "- Income_Category: Kategori pendapatan pelanggan (contoh: Less than $40K, $60K - $80K).\n",
    "- Card_Category: Jenis kartu kredit (contoh: Blue, Gold).\n",
    "- Months_on_book: Lama waktu pelanggan menjadi nasabah (dalam bulan).\n",
    "- Total_Relationship_Count: Jumlah total produk atau layanan yang digunakan pelanggan.\n",
    "- Months_Inactive_12_mon: Jumlah bulan tidak aktif dalam 12 bulan terakhir.\n",
    "- Contacts_Count_12_mon: Jumlah kontak pelanggan dengan bank dalam 12 bulan terakhir.\n",
    "- Credit_Limit: Batas kredit pelanggan.\n",
    "- Total_Revolving_Bal: Saldo bergulir total pada kartu kredit.\n",
    "- Avg_Open_To_Buy: Rata-rata jumlah kredit yang tersedia untuk digunakan.\n",
    "- Total_Amt_Chng_Q4_Q1: Perubahan jumlah transaksi kuartal 4 dibanding kuartal 1.\n",
    "- Total_Trans_Amt: Jumlah total transaksi dalam 12 bulan terakhir.\n",
    "- Total_Trans_Ct: Jumlah total transaksi yang dilakukan.\n",
    "- Total_Ct_Chng_Q4_Q1: Perubahan jumlah transaksi kuartal 4 dibanding kuartal 1.\n",
    "- Avg_Utilization_Ratio: Rasio pemakaian rata-rata terhadap batas kredit.\n",
    "\n"
   ]
  },
  {
   "cell_type": "code",
   "execution_count": 1,
   "metadata": {},
   "outputs": [],
   "source": [
    "import pandas as pd\n",
    "import numpy as np\n",
    "import matplotlib.pyplot as plt\n",
    "import seaborn as sns\n",
    "from scipy import stats"
   ]
  },
  {
   "cell_type": "code",
   "execution_count": 2,
   "metadata": {},
   "outputs": [
    {
     "data": {
      "text/html": [
       "<div>\n",
       "<style scoped>\n",
       "    .dataframe tbody tr th:only-of-type {\n",
       "        vertical-align: middle;\n",
       "    }\n",
       "\n",
       "    .dataframe tbody tr th {\n",
       "        vertical-align: top;\n",
       "    }\n",
       "\n",
       "    .dataframe thead th {\n",
       "        text-align: right;\n",
       "    }\n",
       "</style>\n",
       "<table border=\"1\" class=\"dataframe\">\n",
       "  <thead>\n",
       "    <tr style=\"text-align: right;\">\n",
       "      <th></th>\n",
       "      <th>CLIENTNUM</th>\n",
       "      <th>Attrition_Flag</th>\n",
       "      <th>Customer_Age</th>\n",
       "      <th>Gender</th>\n",
       "      <th>Dependent_count</th>\n",
       "      <th>Education_Level</th>\n",
       "      <th>Marital_Status</th>\n",
       "      <th>Income_Category</th>\n",
       "      <th>Card_Category</th>\n",
       "      <th>Months_on_book</th>\n",
       "      <th>...</th>\n",
       "      <th>Credit_Limit</th>\n",
       "      <th>Total_Revolving_Bal</th>\n",
       "      <th>Avg_Open_To_Buy</th>\n",
       "      <th>Total_Amt_Chng_Q4_Q1</th>\n",
       "      <th>Total_Trans_Amt</th>\n",
       "      <th>Total_Trans_Ct</th>\n",
       "      <th>Total_Ct_Chng_Q4_Q1</th>\n",
       "      <th>Avg_Utilization_Ratio</th>\n",
       "      <th>Naive_Bayes_Classifier_Attrition_Flag_Card_Category_Contacts_Count_12_mon_Dependent_count_Education_Level_Months_Inactive_12_mon_1</th>\n",
       "      <th>Naive_Bayes_Classifier_Attrition_Flag_Card_Category_Contacts_Count_12_mon_Dependent_count_Education_Level_Months_Inactive_12_mon_2</th>\n",
       "    </tr>\n",
       "  </thead>\n",
       "  <tbody>\n",
       "    <tr>\n",
       "      <th>0</th>\n",
       "      <td>768805383</td>\n",
       "      <td>Existing Customer</td>\n",
       "      <td>45</td>\n",
       "      <td>M</td>\n",
       "      <td>3</td>\n",
       "      <td>High School</td>\n",
       "      <td>Married</td>\n",
       "      <td>$60K - $80K</td>\n",
       "      <td>Blue</td>\n",
       "      <td>39</td>\n",
       "      <td>...</td>\n",
       "      <td>12691.0</td>\n",
       "      <td>777</td>\n",
       "      <td>11914.0</td>\n",
       "      <td>1.335</td>\n",
       "      <td>1144</td>\n",
       "      <td>42</td>\n",
       "      <td>1.625</td>\n",
       "      <td>0.061</td>\n",
       "      <td>0.000093</td>\n",
       "      <td>0.999910</td>\n",
       "    </tr>\n",
       "    <tr>\n",
       "      <th>1</th>\n",
       "      <td>818770008</td>\n",
       "      <td>Existing Customer</td>\n",
       "      <td>49</td>\n",
       "      <td>F</td>\n",
       "      <td>5</td>\n",
       "      <td>Graduate</td>\n",
       "      <td>Single</td>\n",
       "      <td>Less than $40K</td>\n",
       "      <td>Blue</td>\n",
       "      <td>44</td>\n",
       "      <td>...</td>\n",
       "      <td>8256.0</td>\n",
       "      <td>864</td>\n",
       "      <td>7392.0</td>\n",
       "      <td>1.541</td>\n",
       "      <td>1291</td>\n",
       "      <td>33</td>\n",
       "      <td>3.714</td>\n",
       "      <td>0.105</td>\n",
       "      <td>0.000057</td>\n",
       "      <td>0.999940</td>\n",
       "    </tr>\n",
       "    <tr>\n",
       "      <th>2</th>\n",
       "      <td>713982108</td>\n",
       "      <td>Existing Customer</td>\n",
       "      <td>51</td>\n",
       "      <td>M</td>\n",
       "      <td>3</td>\n",
       "      <td>Graduate</td>\n",
       "      <td>Married</td>\n",
       "      <td>$80K - $120K</td>\n",
       "      <td>Blue</td>\n",
       "      <td>36</td>\n",
       "      <td>...</td>\n",
       "      <td>3418.0</td>\n",
       "      <td>0</td>\n",
       "      <td>3418.0</td>\n",
       "      <td>2.594</td>\n",
       "      <td>1887</td>\n",
       "      <td>20</td>\n",
       "      <td>2.333</td>\n",
       "      <td>0.000</td>\n",
       "      <td>0.000021</td>\n",
       "      <td>0.999980</td>\n",
       "    </tr>\n",
       "    <tr>\n",
       "      <th>3</th>\n",
       "      <td>769911858</td>\n",
       "      <td>Existing Customer</td>\n",
       "      <td>40</td>\n",
       "      <td>F</td>\n",
       "      <td>4</td>\n",
       "      <td>High School</td>\n",
       "      <td>Unknown</td>\n",
       "      <td>Less than $40K</td>\n",
       "      <td>Blue</td>\n",
       "      <td>34</td>\n",
       "      <td>...</td>\n",
       "      <td>3313.0</td>\n",
       "      <td>2517</td>\n",
       "      <td>796.0</td>\n",
       "      <td>1.405</td>\n",
       "      <td>1171</td>\n",
       "      <td>20</td>\n",
       "      <td>2.333</td>\n",
       "      <td>0.760</td>\n",
       "      <td>0.000134</td>\n",
       "      <td>0.999870</td>\n",
       "    </tr>\n",
       "    <tr>\n",
       "      <th>4</th>\n",
       "      <td>709106358</td>\n",
       "      <td>Existing Customer</td>\n",
       "      <td>40</td>\n",
       "      <td>M</td>\n",
       "      <td>3</td>\n",
       "      <td>Uneducated</td>\n",
       "      <td>Married</td>\n",
       "      <td>$60K - $80K</td>\n",
       "      <td>Blue</td>\n",
       "      <td>21</td>\n",
       "      <td>...</td>\n",
       "      <td>4716.0</td>\n",
       "      <td>0</td>\n",
       "      <td>4716.0</td>\n",
       "      <td>2.175</td>\n",
       "      <td>816</td>\n",
       "      <td>28</td>\n",
       "      <td>2.500</td>\n",
       "      <td>0.000</td>\n",
       "      <td>0.000022</td>\n",
       "      <td>0.999980</td>\n",
       "    </tr>\n",
       "    <tr>\n",
       "      <th>...</th>\n",
       "      <td>...</td>\n",
       "      <td>...</td>\n",
       "      <td>...</td>\n",
       "      <td>...</td>\n",
       "      <td>...</td>\n",
       "      <td>...</td>\n",
       "      <td>...</td>\n",
       "      <td>...</td>\n",
       "      <td>...</td>\n",
       "      <td>...</td>\n",
       "      <td>...</td>\n",
       "      <td>...</td>\n",
       "      <td>...</td>\n",
       "      <td>...</td>\n",
       "      <td>...</td>\n",
       "      <td>...</td>\n",
       "      <td>...</td>\n",
       "      <td>...</td>\n",
       "      <td>...</td>\n",
       "      <td>...</td>\n",
       "      <td>...</td>\n",
       "    </tr>\n",
       "    <tr>\n",
       "      <th>10122</th>\n",
       "      <td>772366833</td>\n",
       "      <td>Existing Customer</td>\n",
       "      <td>50</td>\n",
       "      <td>M</td>\n",
       "      <td>2</td>\n",
       "      <td>Graduate</td>\n",
       "      <td>Single</td>\n",
       "      <td>$40K - $60K</td>\n",
       "      <td>Blue</td>\n",
       "      <td>40</td>\n",
       "      <td>...</td>\n",
       "      <td>4003.0</td>\n",
       "      <td>1851</td>\n",
       "      <td>2152.0</td>\n",
       "      <td>0.703</td>\n",
       "      <td>15476</td>\n",
       "      <td>117</td>\n",
       "      <td>0.857</td>\n",
       "      <td>0.462</td>\n",
       "      <td>0.000191</td>\n",
       "      <td>0.999810</td>\n",
       "    </tr>\n",
       "    <tr>\n",
       "      <th>10123</th>\n",
       "      <td>710638233</td>\n",
       "      <td>Attrited Customer</td>\n",
       "      <td>41</td>\n",
       "      <td>M</td>\n",
       "      <td>2</td>\n",
       "      <td>Unknown</td>\n",
       "      <td>Divorced</td>\n",
       "      <td>$40K - $60K</td>\n",
       "      <td>Blue</td>\n",
       "      <td>25</td>\n",
       "      <td>...</td>\n",
       "      <td>4277.0</td>\n",
       "      <td>2186</td>\n",
       "      <td>2091.0</td>\n",
       "      <td>0.804</td>\n",
       "      <td>8764</td>\n",
       "      <td>69</td>\n",
       "      <td>0.683</td>\n",
       "      <td>0.511</td>\n",
       "      <td>0.995270</td>\n",
       "      <td>0.004729</td>\n",
       "    </tr>\n",
       "    <tr>\n",
       "      <th>10124</th>\n",
       "      <td>716506083</td>\n",
       "      <td>Attrited Customer</td>\n",
       "      <td>44</td>\n",
       "      <td>F</td>\n",
       "      <td>1</td>\n",
       "      <td>High School</td>\n",
       "      <td>Married</td>\n",
       "      <td>Less than $40K</td>\n",
       "      <td>Blue</td>\n",
       "      <td>36</td>\n",
       "      <td>...</td>\n",
       "      <td>5409.0</td>\n",
       "      <td>0</td>\n",
       "      <td>5409.0</td>\n",
       "      <td>0.819</td>\n",
       "      <td>10291</td>\n",
       "      <td>60</td>\n",
       "      <td>0.818</td>\n",
       "      <td>0.000</td>\n",
       "      <td>0.997880</td>\n",
       "      <td>0.002118</td>\n",
       "    </tr>\n",
       "    <tr>\n",
       "      <th>10125</th>\n",
       "      <td>717406983</td>\n",
       "      <td>Attrited Customer</td>\n",
       "      <td>30</td>\n",
       "      <td>M</td>\n",
       "      <td>2</td>\n",
       "      <td>Graduate</td>\n",
       "      <td>Unknown</td>\n",
       "      <td>$40K - $60K</td>\n",
       "      <td>Blue</td>\n",
       "      <td>36</td>\n",
       "      <td>...</td>\n",
       "      <td>5281.0</td>\n",
       "      <td>0</td>\n",
       "      <td>5281.0</td>\n",
       "      <td>0.535</td>\n",
       "      <td>8395</td>\n",
       "      <td>62</td>\n",
       "      <td>0.722</td>\n",
       "      <td>0.000</td>\n",
       "      <td>0.996710</td>\n",
       "      <td>0.003294</td>\n",
       "    </tr>\n",
       "    <tr>\n",
       "      <th>10126</th>\n",
       "      <td>714337233</td>\n",
       "      <td>Attrited Customer</td>\n",
       "      <td>43</td>\n",
       "      <td>F</td>\n",
       "      <td>2</td>\n",
       "      <td>Graduate</td>\n",
       "      <td>Married</td>\n",
       "      <td>Less than $40K</td>\n",
       "      <td>Silver</td>\n",
       "      <td>25</td>\n",
       "      <td>...</td>\n",
       "      <td>10388.0</td>\n",
       "      <td>1961</td>\n",
       "      <td>8427.0</td>\n",
       "      <td>0.703</td>\n",
       "      <td>10294</td>\n",
       "      <td>61</td>\n",
       "      <td>0.649</td>\n",
       "      <td>0.189</td>\n",
       "      <td>0.996620</td>\n",
       "      <td>0.003377</td>\n",
       "    </tr>\n",
       "  </tbody>\n",
       "</table>\n",
       "<p>10127 rows × 23 columns</p>\n",
       "</div>"
      ],
      "text/plain": [
       "       CLIENTNUM     Attrition_Flag  Customer_Age Gender  Dependent_count  \\\n",
       "0      768805383  Existing Customer            45      M                3   \n",
       "1      818770008  Existing Customer            49      F                5   \n",
       "2      713982108  Existing Customer            51      M                3   \n",
       "3      769911858  Existing Customer            40      F                4   \n",
       "4      709106358  Existing Customer            40      M                3   \n",
       "...          ...                ...           ...    ...              ...   \n",
       "10122  772366833  Existing Customer            50      M                2   \n",
       "10123  710638233  Attrited Customer            41      M                2   \n",
       "10124  716506083  Attrited Customer            44      F                1   \n",
       "10125  717406983  Attrited Customer            30      M                2   \n",
       "10126  714337233  Attrited Customer            43      F                2   \n",
       "\n",
       "      Education_Level Marital_Status Income_Category Card_Category  \\\n",
       "0         High School        Married     $60K - $80K          Blue   \n",
       "1            Graduate         Single  Less than $40K          Blue   \n",
       "2            Graduate        Married    $80K - $120K          Blue   \n",
       "3         High School        Unknown  Less than $40K          Blue   \n",
       "4          Uneducated        Married     $60K - $80K          Blue   \n",
       "...               ...            ...             ...           ...   \n",
       "10122        Graduate         Single     $40K - $60K          Blue   \n",
       "10123         Unknown       Divorced     $40K - $60K          Blue   \n",
       "10124     High School        Married  Less than $40K          Blue   \n",
       "10125        Graduate        Unknown     $40K - $60K          Blue   \n",
       "10126        Graduate        Married  Less than $40K        Silver   \n",
       "\n",
       "       Months_on_book  ...  Credit_Limit  Total_Revolving_Bal  \\\n",
       "0                  39  ...       12691.0                  777   \n",
       "1                  44  ...        8256.0                  864   \n",
       "2                  36  ...        3418.0                    0   \n",
       "3                  34  ...        3313.0                 2517   \n",
       "4                  21  ...        4716.0                    0   \n",
       "...               ...  ...           ...                  ...   \n",
       "10122              40  ...        4003.0                 1851   \n",
       "10123              25  ...        4277.0                 2186   \n",
       "10124              36  ...        5409.0                    0   \n",
       "10125              36  ...        5281.0                    0   \n",
       "10126              25  ...       10388.0                 1961   \n",
       "\n",
       "       Avg_Open_To_Buy  Total_Amt_Chng_Q4_Q1  Total_Trans_Amt  Total_Trans_Ct  \\\n",
       "0              11914.0                 1.335             1144              42   \n",
       "1               7392.0                 1.541             1291              33   \n",
       "2               3418.0                 2.594             1887              20   \n",
       "3                796.0                 1.405             1171              20   \n",
       "4               4716.0                 2.175              816              28   \n",
       "...                ...                   ...              ...             ...   \n",
       "10122           2152.0                 0.703            15476             117   \n",
       "10123           2091.0                 0.804             8764              69   \n",
       "10124           5409.0                 0.819            10291              60   \n",
       "10125           5281.0                 0.535             8395              62   \n",
       "10126           8427.0                 0.703            10294              61   \n",
       "\n",
       "       Total_Ct_Chng_Q4_Q1  Avg_Utilization_Ratio  \\\n",
       "0                    1.625                  0.061   \n",
       "1                    3.714                  0.105   \n",
       "2                    2.333                  0.000   \n",
       "3                    2.333                  0.760   \n",
       "4                    2.500                  0.000   \n",
       "...                    ...                    ...   \n",
       "10122                0.857                  0.462   \n",
       "10123                0.683                  0.511   \n",
       "10124                0.818                  0.000   \n",
       "10125                0.722                  0.000   \n",
       "10126                0.649                  0.189   \n",
       "\n",
       "       Naive_Bayes_Classifier_Attrition_Flag_Card_Category_Contacts_Count_12_mon_Dependent_count_Education_Level_Months_Inactive_12_mon_1  \\\n",
       "0                                               0.000093                                                                                    \n",
       "1                                               0.000057                                                                                    \n",
       "2                                               0.000021                                                                                    \n",
       "3                                               0.000134                                                                                    \n",
       "4                                               0.000022                                                                                    \n",
       "...                                                  ...                                                                                    \n",
       "10122                                           0.000191                                                                                    \n",
       "10123                                           0.995270                                                                                    \n",
       "10124                                           0.997880                                                                                    \n",
       "10125                                           0.996710                                                                                    \n",
       "10126                                           0.996620                                                                                    \n",
       "\n",
       "       Naive_Bayes_Classifier_Attrition_Flag_Card_Category_Contacts_Count_12_mon_Dependent_count_Education_Level_Months_Inactive_12_mon_2  \n",
       "0                                               0.999910                                                                                   \n",
       "1                                               0.999940                                                                                   \n",
       "2                                               0.999980                                                                                   \n",
       "3                                               0.999870                                                                                   \n",
       "4                                               0.999980                                                                                   \n",
       "...                                                  ...                                                                                   \n",
       "10122                                           0.999810                                                                                   \n",
       "10123                                           0.004729                                                                                   \n",
       "10124                                           0.002118                                                                                   \n",
       "10125                                           0.003294                                                                                   \n",
       "10126                                           0.003377                                                                                   \n",
       "\n",
       "[10127 rows x 23 columns]"
      ]
     },
     "execution_count": 2,
     "metadata": {},
     "output_type": "execute_result"
    }
   ],
   "source": [
    "df = pd.read_csv('BankChurners.csv')\n",
    "\n",
    "df"
   ]
  },
  {
   "cell_type": "markdown",
   "metadata": {},
   "source": [
    "melihat colum categorical"
   ]
  },
  {
   "cell_type": "code",
   "execution_count": 3,
   "metadata": {},
   "outputs": [
    {
     "data": {
      "text/plain": [
       "['Attrition_Flag',\n",
       " 'Gender',\n",
       " 'Education_Level',\n",
       " 'Marital_Status',\n",
       " 'Income_Category',\n",
       " 'Card_Category']"
      ]
     },
     "execution_count": 3,
     "metadata": {},
     "output_type": "execute_result"
    }
   ],
   "source": [
    "categorical_columns = df.select_dtypes(include=['object']).columns.tolist()\n",
    "categorical_columns"
   ]
  },
  {
   "cell_type": "markdown",
   "metadata": {},
   "source": [
    "melihat colum numerik"
   ]
  },
  {
   "cell_type": "code",
   "execution_count": 4,
   "metadata": {},
   "outputs": [
    {
     "data": {
      "text/plain": [
       "(['CLIENTNUM',\n",
       "  'Customer_Age',\n",
       "  'Dependent_count',\n",
       "  'Months_on_book',\n",
       "  'Total_Relationship_Count',\n",
       "  'Months_Inactive_12_mon',\n",
       "  'Contacts_Count_12_mon',\n",
       "  'Credit_Limit',\n",
       "  'Total_Revolving_Bal',\n",
       "  'Avg_Open_To_Buy',\n",
       "  'Total_Amt_Chng_Q4_Q1',\n",
       "  'Total_Trans_Amt',\n",
       "  'Total_Trans_Ct',\n",
       "  'Total_Ct_Chng_Q4_Q1',\n",
       "  'Avg_Utilization_Ratio',\n",
       "  'Naive_Bayes_Classifier_Attrition_Flag_Card_Category_Contacts_Count_12_mon_Dependent_count_Education_Level_Months_Inactive_12_mon_1',\n",
       "  'Naive_Bayes_Classifier_Attrition_Flag_Card_Category_Contacts_Count_12_mon_Dependent_count_Education_Level_Months_Inactive_12_mon_2'],)"
      ]
     },
     "execution_count": 4,
     "metadata": {},
     "output_type": "execute_result"
    }
   ],
   "source": [
    "# Separate numerical and categorical columns\n",
    "numerical_columns = df.select_dtypes(include=['int64', 'float64']).columns.tolist()\n",
    "numerical_columns, \n"
   ]
  },
  {
   "cell_type": "code",
   "execution_count": 5,
   "metadata": {},
   "outputs": [
    {
     "data": {
      "text/plain": [
       "array(['Existing Customer', 'Attrited Customer'], dtype=object)"
      ]
     },
     "execution_count": 5,
     "metadata": {},
     "output_type": "execute_result"
    }
   ],
   "source": [
    "df['Attrition_Flag'].unique()"
   ]
  },
  {
   "cell_type": "markdown",
   "metadata": {},
   "source": [
    "### Deskripsi Dataset \n",
    "Dataset ini menyediakan tentang, keterlibatan, perilaku transaksi, dan keuangan nasabah. Informasi ini sangat berguna untuk menganalisis faktor-faktor yang berhubungan dengan churn (nasabah berhenti aktif) dan membantu bank mengambil langkah-langkah untuk mempertahankan nasabah."
   ]
  },
  {
   "cell_type": "markdown",
   "metadata": {},
   "source": [
    "# 4. Data Cleaning"
   ]
  },
  {
   "cell_type": "markdown",
   "metadata": {},
   "source": [
    "kebetulan saya dapat data yang sudah bersih , tidak ada missing value"
   ]
  },
  {
   "cell_type": "code",
   "execution_count": 6,
   "metadata": {},
   "outputs": [
    {
     "data": {
      "text/plain": [
       "CLIENTNUM                                                                                                                             0\n",
       "Attrition_Flag                                                                                                                        0\n",
       "Customer_Age                                                                                                                          0\n",
       "Gender                                                                                                                                0\n",
       "Dependent_count                                                                                                                       0\n",
       "Education_Level                                                                                                                       0\n",
       "Marital_Status                                                                                                                        0\n",
       "Income_Category                                                                                                                       0\n",
       "Card_Category                                                                                                                         0\n",
       "Months_on_book                                                                                                                        0\n",
       "Total_Relationship_Count                                                                                                              0\n",
       "Months_Inactive_12_mon                                                                                                                0\n",
       "Contacts_Count_12_mon                                                                                                                 0\n",
       "Credit_Limit                                                                                                                          0\n",
       "Total_Revolving_Bal                                                                                                                   0\n",
       "Avg_Open_To_Buy                                                                                                                       0\n",
       "Total_Amt_Chng_Q4_Q1                                                                                                                  0\n",
       "Total_Trans_Amt                                                                                                                       0\n",
       "Total_Trans_Ct                                                                                                                        0\n",
       "Total_Ct_Chng_Q4_Q1                                                                                                                   0\n",
       "Avg_Utilization_Ratio                                                                                                                 0\n",
       "Naive_Bayes_Classifier_Attrition_Flag_Card_Category_Contacts_Count_12_mon_Dependent_count_Education_Level_Months_Inactive_12_mon_1    0\n",
       "Naive_Bayes_Classifier_Attrition_Flag_Card_Category_Contacts_Count_12_mon_Dependent_count_Education_Level_Months_Inactive_12_mon_2    0\n",
       "dtype: int64"
      ]
     },
     "execution_count": 6,
     "metadata": {},
     "output_type": "execute_result"
    }
   ],
   "source": [
    "df.isna().sum()"
   ]
  },
  {
   "cell_type": "code",
   "execution_count": 7,
   "metadata": {},
   "outputs": [
    {
     "name": "stdout",
     "output_type": "stream",
     "text": [
      "<class 'pandas.core.frame.DataFrame'>\n",
      "RangeIndex: 10127 entries, 0 to 10126\n",
      "Data columns (total 23 columns):\n",
      " #   Column                                                                                                                              Non-Null Count  Dtype  \n",
      "---  ------                                                                                                                              --------------  -----  \n",
      " 0   CLIENTNUM                                                                                                                           10127 non-null  int64  \n",
      " 1   Attrition_Flag                                                                                                                      10127 non-null  object \n",
      " 2   Customer_Age                                                                                                                        10127 non-null  int64  \n",
      " 3   Gender                                                                                                                              10127 non-null  object \n",
      " 4   Dependent_count                                                                                                                     10127 non-null  int64  \n",
      " 5   Education_Level                                                                                                                     10127 non-null  object \n",
      " 6   Marital_Status                                                                                                                      10127 non-null  object \n",
      " 7   Income_Category                                                                                                                     10127 non-null  object \n",
      " 8   Card_Category                                                                                                                       10127 non-null  object \n",
      " 9   Months_on_book                                                                                                                      10127 non-null  int64  \n",
      " 10  Total_Relationship_Count                                                                                                            10127 non-null  int64  \n",
      " 11  Months_Inactive_12_mon                                                                                                              10127 non-null  int64  \n",
      " 12  Contacts_Count_12_mon                                                                                                               10127 non-null  int64  \n",
      " 13  Credit_Limit                                                                                                                        10127 non-null  float64\n",
      " 14  Total_Revolving_Bal                                                                                                                 10127 non-null  int64  \n",
      " 15  Avg_Open_To_Buy                                                                                                                     10127 non-null  float64\n",
      " 16  Total_Amt_Chng_Q4_Q1                                                                                                                10127 non-null  float64\n",
      " 17  Total_Trans_Amt                                                                                                                     10127 non-null  int64  \n",
      " 18  Total_Trans_Ct                                                                                                                      10127 non-null  int64  \n",
      " 19  Total_Ct_Chng_Q4_Q1                                                                                                                 10127 non-null  float64\n",
      " 20  Avg_Utilization_Ratio                                                                                                               10127 non-null  float64\n",
      " 21  Naive_Bayes_Classifier_Attrition_Flag_Card_Category_Contacts_Count_12_mon_Dependent_count_Education_Level_Months_Inactive_12_mon_1  10127 non-null  float64\n",
      " 22  Naive_Bayes_Classifier_Attrition_Flag_Card_Category_Contacts_Count_12_mon_Dependent_count_Education_Level_Months_Inactive_12_mon_2  10127 non-null  float64\n",
      "dtypes: float64(7), int64(10), object(6)\n",
      "memory usage: 1.8+ MB\n"
     ]
    }
   ],
   "source": [
    "df.info()"
   ]
  },
  {
   "cell_type": "markdown",
   "metadata": {},
   "source": [
    "# Analisis dan Perhitungan"
   ]
  },
  {
   "cell_type": "markdown",
   "metadata": {},
   "source": [
    "##### 1.  Apa yang menyebabkan tingkat churn pelanggan mencapai 16%?"
   ]
  },
  {
   "cell_type": "code",
   "execution_count": 8,
   "metadata": {},
   "outputs": [
    {
     "name": "stdout",
     "output_type": "stream",
     "text": [
      "Tingkat churn pelanggan: 16.07%\n"
     ]
    }
   ],
   "source": [
    "# Menghitung persentase churn pelanggan\n",
    "churn_rate = (df[df['Attrition_Flag'] == 'Attrited Customer'].shape[0] / df.shape[0]) * 100\n",
    "print(f\"Tingkat churn pelanggan: {churn_rate:.2f}%\")"
   ]
  },
  {
   "cell_type": "code",
   "execution_count": null,
   "metadata": {},
   "outputs": [
    {
     "name": "stdout",
     "output_type": "stream",
     "text": [
      "Skewness: 0.15367306849872275\n"
     ]
    }
   ],
   "source": [
    "print(f\"Skewness: {df['Total_Trans_Ct'].skew()}\")"
   ]
  },
  {
   "cell_type": "markdown",
   "metadata": {},
   "source": [
    "disini nilai skew 0.033 yang berarti normal "
   ]
  },
  {
   "cell_type": "code",
   "execution_count": null,
   "metadata": {},
   "outputs": [
    {
     "name": "stdout",
     "output_type": "stream",
     "text": [
      "Kurtosis: -0.36716324112759624\n"
     ]
    }
   ],
   "source": [
    "print(f\"Kurtosis: {df['Total_Trans_Ct'].kurtosis()}\")"
   ]
  },
  {
   "cell_type": "code",
   "execution_count": null,
   "metadata": {},
   "outputs": [
    {
     "name": "stdout",
     "output_type": "stream",
     "text": [
      "Average: 64.85869457884863\n",
      "Median: 67.0\n"
     ]
    }
   ],
   "source": [
    "print('Average:',df['Total_Trans_Ct'].mean())\n",
    "print('Median:',df['Total_Trans_Ct'].median())"
   ]
  },
  {
   "cell_type": "code",
   "execution_count": null,
   "metadata": {},
   "outputs": [
    {
     "name": "stdout",
     "output_type": "stream",
     "text": [
      "Upper : 135.28\n",
      "Lower : -5.56\n"
     ]
    }
   ],
   "source": [
    "avg = df['Total_Trans_Ct'].mean()\n",
    "std = df['Total_Trans_Ct'].std()\n",
    "\n",
    "up_bound = avg + 3*std\n",
    "low_bound = avg - 3*std\n",
    "\n",
    "print(f'Upper : {up_bound:.2f}' )\n",
    "print(f'Lower : {low_bound:.2f}')"
   ]
  },
  {
   "cell_type": "code",
   "execution_count": null,
   "metadata": {},
   "outputs": [
    {
     "name": "stdout",
     "output_type": "stream",
     "text": [
      "\n",
      "Statistik Deskriptif Pelanggan Churn:\n",
      "Total_Trans_Ct    44.93362\n",
      "dtype: float64\n"
     ]
    }
   ],
   "source": [
    "# Menghitung statistik deskriptif untuk variabel yang relevan\n",
    "churned = df[df['Attrition_Flag'] == 'Attrited Customer']\n",
    "non_churned = df[df['Attrition_Flag'] == 'Existing Customer']\n",
    "\n",
    "# Statistik deskriptif untuk variabel numerik (Total_Trans_Ct, Customer_Age, Credit_Limit)\n",
    "print(\"\\nStatistik Deskriptif Pelanggan Churn:\")\n",
    "print(churned[['Total_Trans_Ct']].mean())"
   ]
  },
  {
   "cell_type": "markdown",
   "metadata": {},
   "source": [
    "Tingkat churn pelanggan yang mencapai 16.07%  melalui rata-rata yang terlihat dalam statistik deskriptif, disebabkan oleh dua faktor utama. Pelanggan yang churn memiliki rata-rata transaksi yang lebih rendah (44.93), menunjukkan mereka kurang aktif menggunakan kartu kredit.membuat mereka merasa terbatas dalam menggunakan kartu kreditnya dan akhirnya memutuskan untuk berhenti menggunakan kartu kredit."
   ]
  },
  {
   "cell_type": "markdown",
   "metadata": {},
   "source": [
    "#### 2. Mengapa menurunkan churn pelanggan menjadi penting bagi bank? "
   ]
  },
  {
   "cell_type": "code",
   "execution_count": null,
   "metadata": {},
   "outputs": [
    {
     "data": {
      "image/png": "[encoded data removed]",
      "text/plain": [
       "<Figure size 640x480 with 1 Axes>"
      ]
     },
     "metadata": {},
     "output_type": "display_data"
    }
   ],
   "source": [
    "# Membuat bar plot untuk perbandingan rata-rata Total_Trans_Ct dan Credit_Limit antara Churn dan Non-Churn\n",
    "sns.barplot(x='Attrition_Flag', y='Total_Trans_Ct', data=df)\n",
    "plt.title('Perbandingan Rata-rata Total_Trans_Ct (Churn vs Non-Churn)')\n",
    "plt.show()\n"
   ]
  },
  {
   "cell_type": "markdown",
   "metadata": {},
   "source": [
    "- pada visualisasi yang pertama = pelanggan yang churn rata-rata Total_Trans_Ct (total tranksaksinya) lebih rendah dibandingkan dengan yang non churn , mengindikasikan pelanggan churn cenderung melakukan tranksaksi lebih sdikit yang menunjukan ketidakpuasan dengan produk atau layanan bank\n",
    "\n",
    "dari visual ini kita dapat menjawab :\n",
    "Menurunkan tingkat churn pelanggan menjadi sangat penting bagi bank karena dapat meningkatkan aktivitas transaksi yang menghasilkan pendapatan. Dengan mengurangi churn, bank bisa mempertahankan pelanggan yang sudah ada, yang biasanya lebih menguntungkan daripada menarik pelanggan baru"
   ]
  },
  {
   "cell_type": "markdown",
   "metadata": {},
   "source": [
    "#### 3. Siapa saja pelanggan yang paling berisiko untuk churn? "
   ]
  },
  {
   "cell_type": "markdown",
   "metadata": {},
   "source": [
    "Berdasarkan Usia Pelanggan "
   ]
  },
  {
   "cell_type": "code",
   "execution_count": null,
   "metadata": {},
   "outputs": [
    {
     "name": "stdout",
     "output_type": "stream",
     "text": [
      "     Customer_Age  Credit_Limit  Total_Trans_Ct  Months_on_book\n",
      "21             62        1438.3              16              49\n",
      "51             54        1438.3              19              40\n",
      "82             55        2158.0              12              45\n",
      "145            48        2732.0              16              38\n",
      "230            60        1438.3              12              50\n",
      "236            52        1857.0              17              36\n",
      "247            46        2442.0              19              30\n",
      "253            59        3616.0              17              48\n",
      "268            64        3353.0              18              53\n",
      "276            45        3401.0              18              36\n"
     ]
    }
   ],
   "source": [
    "# Filter pelanggan churn\n",
    "churned = df[df['Attrition_Flag'] == 'Attrited Customer']\n",
    "# Fokus pada beberapa variabel yang relevan\n",
    "risk_factors = churned[['Customer_Age', 'Credit_Limit', 'Total_Trans_Ct', 'Months_on_book']]\n",
    "# Menentukan pelanggan dengan transaksi rendah dan limit kredit rendah\n",
    "high_risk = risk_factors[(risk_factors['Total_Trans_Ct'] < 20) & (risk_factors['Credit_Limit'] < 5000)]\n",
    "# Menampilkan pelanggan berisiko tinggi\n",
    "print(high_risk.head(10))"
   ]
  },
  {
   "cell_type": "code",
   "execution_count": 17,
   "metadata": {},
   "outputs": [
    {
     "name": "stderr",
     "output_type": "stream",
     "text": [
      "C:\\Users\\JANGAN DI ENTER\\AppData\\Local\\Temp\\ipykernel_14516\\3811243110.py:12: SettingWithCopyWarning: \n",
      "A value is trying to be set on a copy of a slice from a DataFrame.\n",
      "Try using .loc[row_indexer,col_indexer] = value instead\n",
      "\n",
      "See the caveats in the documentation: https://pandas.pydata.org/pandas-docs/stable/user_guide/indexing.html#returning-a-view-versus-a-copy\n",
      "  high_risk['Age_Range'] = pd.cut(high_risk['Customer_Age'], bins=bins, labels=labels, right=False)\n",
      "C:\\Users\\JANGAN DI ENTER\\AppData\\Local\\Temp\\ipykernel_14516\\3811243110.py:16: FutureWarning: \n",
      "\n",
      "Passing `palette` without assigning `hue` is deprecated and will be removed in v0.14.0. Assign the `x` variable to `hue` and set `legend=False` for the same effect.\n",
      "\n",
      "  sns.barplot(x='Age_Range', y='Total_Trans_Ct', data=high_risk, palette='viridis')\n"
     ]
    },
    {
     "data": {
      "image/png": "[encoded data removed]",
      "text/plain": [
       "<Figure size 1000x600 with 1 Axes>"
      ]
     },
     "metadata": {},
     "output_type": "display_data"
    }
   ],
   "source": [
    "import pandas as pd\n",
    "import matplotlib.pyplot as plt\n",
    "import seaborn as sns\n",
    "\n",
    "# Misalnya df adalah dataframe utama Anda\n",
    "# Definisikan high_risk untuk pelanggan yang berisiko churn\n",
    "high_risk = df[df['Attrition_Flag'] == 'Attrited Customer']\n",
    "\n",
    "# Membuat rentang usia sebagai kategori (dimension)\n",
    "bins = [18, 25, 35, 45, 55, 65, 100]  # Rentang usia\n",
    "labels = ['18-25', '26-35', '36-45', '46-55', '56-65', '65+']\n",
    "high_risk['Age_Range'] = pd.cut(high_risk['Customer_Age'], bins=bins, labels=labels, right=False)\n",
    "\n",
    "# Visualisasi bar plot menggunakan Age_Range sebagai Dimension\n",
    "plt.figure(figsize=(10, 6))\n",
    "sns.barplot(x='Age_Range', y='Total_Trans_Ct', data=high_risk, palette='viridis')\n",
    "\n",
    "# Menambahkan judul dan label\n",
    "plt.title('Total Transaksi vs Rentang Usia Pelanggan Berisiko Churn')\n",
    "plt.xlabel('Rentang Usia Pelanggan')\n",
    "plt.ylabel('Total Transaksi')\n",
    "\n",
    "# Menampilkan plot\n",
    "plt.show()\n"
   ]
  },
  {
   "cell_type": "markdown",
   "metadata": {},
   "source": [
    "terlihat bahwa rentang usia yang lebih muda, seperti 18-25 tahun, memiliki jumlah total transaksi yang lebih rendah dibandingkan dengan kelompok usia yang lebih tua. Hal ini bisa mengindikasikan bahwa pelanggan yang lebih muda cenderung melakukan transaksi lebih sedikit atau lebih jarang berinteraksi dengan produk atau layanan yang ditawarkan. Ini mungkin menunjukkan potensi rendahnya loyalitas atau keterlibatan mereka, yang menjadi faktor risiko churn."
   ]
  },
  {
   "cell_type": "markdown",
   "metadata": {},
   "source": [
    "#### 4. Apakah jumlah income category mempengaruhi churn ? "
   ]
  },
  {
   "cell_type": "code",
   "execution_count": null,
   "metadata": {},
   "outputs": [
    {
     "name": "stderr",
     "output_type": "stream",
     "text": [
      "C:\\Users\\JANGAN DI ENTER\\AppData\\Local\\Temp\\ipykernel_5896\\2748253398.py:6: FutureWarning: \n",
      "\n",
      "Setting a gradient palette using color= is deprecated and will be removed in v0.14.0. Set `palette='dark:blue'` for the same effect.\n",
      "\n",
      "  sns.countplot(x='Income_Category', hue='Attrition_Flag', data=df, color='blue')\n"
     ]
    },
    {
     "data": {
      "image/png": "[encoded data removed]",
      "text/plain": [
       "<Figure size 1000x600 with 1 Axes>"
      ]
     },
     "metadata": {},
     "output_type": "display_data"
    }
   ],
   "source": [
    "import matplotlib.pyplot as plt\n",
    "import seaborn as sns\n",
    "\n",
    "# Count plot untuk melihat jumlah pelanggan churn dan non-churn berdasarkan kategori penghasilan\n",
    "plt.figure(figsize=(10, 6))\n",
    "sns.countplot(x='Income_Category', hue='Attrition_Flag', data=df, color='blue')\n",
    "plt.title('Jumlah Pelanggan Churn dan Non-Churn Berdasarkan Kategori Penghasilan')\n",
    "plt.xlabel('Kategori Penghasilan')\n",
    "plt.ylabel('Jumlah Pelanggan')\n",
    "plt.show()\n"
   ]
  },
  {
   "cell_type": "markdown",
   "metadata": {},
   "source": [
    "visualisasi yang menunjukkan jumlah pelanggan churn dan non-churn berdasarkan kategori penghasilan, terlihat bahwa kategori penghasilan memang memiliki pengaruh terhadap tingkat churn. Pelanggan dengan penghasilan lebih rendah cenderung lebih banyak yang churn dibandingkan dengan pelanggan yang memiliki penghasilan lebih tinggi. Ini menunjukkan bahwa faktor penghasilan dapat berperan dalam keputusan pelanggan untuk berhenti berlangganan layanan."
   ]
  },
  {
   "cell_type": "markdown",
   "metadata": {},
   "source": [
    "#### 5. Kapan pelanggan cenderung berhenti menggunakan kartu kredit?\n"
   ]
  },
  {
   "cell_type": "code",
   "execution_count": 12,
   "metadata": {},
   "outputs": [
    {
     "data": {
      "image/png": "[encoded data removed]",
      "text/plain": [
       "<Figure size 1000x600 with 1 Axes>"
      ]
     },
     "metadata": {},
     "output_type": "display_data"
    }
   ],
   "source": [
    "import matplotlib.pyplot as plt\n",
    "import seaborn as sns\n",
    "\n",
    "# Mengatur ukuran gambar\n",
    "plt.figure(figsize=(10, 6))\n",
    "\n",
    "# Membuat histogram dengan Seaborn\n",
    "sns.histplot(data=df, x='Months_on_book', hue='Attrition_Flag', kde=True, palette=\"Blues\", bins=30)\n",
    "\n",
    "# Menambahkan judul dan label\n",
    "plt.title('Distribusi Pelanggan Churn Berdasarkan Lama Menjadi Pelanggan')\n",
    "plt.xlabel('Lama Menjadi Pelanggan (Bulan)')\n",
    "plt.ylabel('Jumlah Pelanggan')\n",
    "\n",
    "# Menampilkan plot\n",
    "plt.show()\n"
   ]
  },
  {
   "cell_type": "markdown",
   "metadata": {},
   "source": [
    "\n",
    "- dilihat dari data visualisasi , Pelanggan cenderung churn/berhenti menggunakan kartu kredit setelah periode berlangganan yang cukup lama (30-40bulan), dikarenakan mungkin pelanggan lama kurang puas atau sudah merasa tidak ada manfaatnya lagi, maka dari itu bank harus menjaga hubungan yang lebih baik dengan pelanggan yang sudah lama menggunakan kartu kredit agar mereka tetap loyal "
   ]
  },
  {
   "cell_type": "markdown",
   "metadata": {},
   "source": [
    "## 6. Bagaimana cara bank mengidentifikasi pelanggan yang berisiko tinggi churn > apakah dari usia pelanggan dan tranksaksi ?\n"
   ]
  },
  {
   "cell_type": "markdown",
   "metadata": {},
   "source": [
    "- H0 = Tidak ada hubungan antara usia pelanggan dan total tranksaksi terhadap churn\n",
    "- H1 = Ada hubungan antara usia pelanggan dan total tranksaksi terhadap churn\n"
   ]
  },
  {
   "cell_type": "code",
   "execution_count": 14,
   "metadata": {},
   "outputs": [
    {
     "name": "stdout",
     "output_type": "stream",
     "text": [
      "r-correlation: -0.07, p-value: 1.3900282062388908e-11\n"
     ]
    }
   ],
   "source": [
    "corr_r, pval_p = stats.pearsonr(df['Customer_Age'], df['Total_Trans_Ct'])\n",
    "print(f\"r-correlation: {corr_r:.2f}, p-value: {pval_p}\")"
   ]
  },
  {
   "cell_type": "markdown",
   "metadata": {},
   "source": [
    "Dari data di atas p-value 1.3900 maka kita dapat menolak hipotesis nol\n",
    "Tidak ada hubungan antara usia pelanggan dan total tranksaksi terhadap churn"
   ]
  },
  {
   "cell_type": "markdown",
   "metadata": {},
   "source": [
    "# Kesimpulan \n"
   ]
  },
  {
   "cell_type": "markdown",
   "metadata": {},
   "source": [
    "Tingkat churn pelanggan yang mencapai 16.07% mencerminkan adanya faktor-faktor signifikan yang mempengaruhi keputusan pelanggan untuk berhenti menggunakan kartu kredit. menunjukkan bahwa pelanggan yang churn cenderung memiliki rata-rata transaksi yang lebih rendah, yang menandakan rendahnya aktivitas penggunaan kartu kredit mereka. Hal ini bisa membuat mereka merasa kurang mendapat manfaat dari layanan tersebut, yang akhirnya menyebabkan keputusan untuk berhenti berlangganan.\n",
    "pelanggan dalam rentang usia yang lebih muda (18-25 tahun) menunjukkan total transaksi yang lebih rendah, yang bisa mengindikasikan bahwa mereka kurang terlibat atau kurang loyal terhadap produk atau layanan yang ditawarkan, aktivitas rendah membuatnya berisiko churn. pelanggan yang sudah berlangganan lama (30-40 bulan) juga cenderung lebih banyak churn. Hal ini mungkin karena mereka merasa layanan tidak lagi memberikan nilai tambah, sehingga bank harus berfokus pada membangun hubungan yang lebih kuat dengan pelanggan lama agar mereka tetap merasa dihargai dan loyal.\n",
    "mengurangi tingkat churn sangat penting bagi bank, karena mempertahankan pelanggan yang sudah ada jauh lebih menguntungkan dibandingkan menarik pelanggan baru. Dengan memahami faktor-faktor penyebab churn, bank dapat menyusun strategi yang lebih baik untuk meningkatkan kepuasan dan loyalitas pelanggan, serta menjaga pendapatan yang stabil."
   ]
  },
  {
   "cell_type": "markdown",
   "metadata": {},
   "source": [
    "# Rekomendasi"
   ]
  },
  {
   "cell_type": "markdown",
   "metadata": {},
   "source": [
    "- Meningkatkan Aktivitas Transaksi Pelanggan:\n",
    "Bank harus mengidentifikasi pelanggan dengan transaksi rendah dan memberikan insentif untuk meningkatkan aktivitas penggunaan kartu kredit.\n",
    "- Segmentasi Berdasarkan Penghasilan:\n",
    "Mengingat penghasilan berperan besar dalam tingkat churn, bank perlu menyesuaikan pendekatan pemasaran dan penawaran produk berdasarkan segmen penghasilan. Pelanggan dengan penghasilan lebih rendah mungkin memerlukan produk yang lebih fleksibel atau promosi khusus yang sesuai dengan kebutuhan mereka, seperti cicilan ringan atau penawaran bunga rendah. \n",
    "- Memonitor Pola Transaksi dan Aktivitas Pelanggan:\n",
    "Bank harus menggunakan data transaksi untuk memantau pola aktivitas pelanggan secara lebih mendalam. Misalnya, jika seorang pelanggan mulai mengurangi frekuensi transaksi mereka, bank dapat segera menghubungi pelanggan tersebut dengan tawaran khusus atau meminta umpan balik mengenai kepuasan mereka.\n",
    "- Menerapkan Program Referal untuk Pelanggan Lama:\n",
    "Untuk meningkatkan loyalitas pelanggan yang sudah ada, bank bisa mengembangkan program referal, di mana pelanggan lama diberikan insentif atau hadiah jika berhasil merekomendasikan teman atau keluarga untuk menggunakan kartu kredit bank. Ini tidak hanya membantu mengurangi churn, tetapi juga dapat membawa pelanggan baru yang lebih loyal."
   ]
  },
  {
   "cell_type": "code",
   "execution_count": null,
   "metadata": {},
   "outputs": [],
   "source": [
    "df.to_csv('BankChurn.csv', index=False)"
   ]
  }
 ],
 "metadata": {
  "kernelspec": {
   "display_name": "base",
   "language": "python",
   "name": "python3"
  },
  "language_info": {
   "codemirror_mode": {
    "name": "ipython",
    "version": 3
   },
   "file_extension": ".py",
   "mimetype": "text/x-python",
   "name": "python",
   "nbconvert_exporter": "python",
   "pygments_lexer": "ipython3",
   "version": "3.9.20"
  }
 },
 "nbformat": 4,
 "nbformat_minor": 2
}
